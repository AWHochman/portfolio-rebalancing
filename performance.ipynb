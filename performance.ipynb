{
 "cells": [
  {
   "cell_type": "code",
   "execution_count": 5,
   "metadata": {},
   "outputs": [],
   "source": [
    "import pandas as pd\n",
    "import portfolio\n",
    "import sectordata\n",
    "from datetime import date, datetime, timedelta"
   ]
  },
  {
   "cell_type": "code",
   "execution_count": 6,
   "metadata": {},
   "outputs": [],
   "source": [
    "from scipy.cluster.hierarchy import ClusterWarning\n",
    "from warnings import simplefilter\n",
    "simplefilter(\"ignore\", ClusterWarning)"
   ]
  },
  {
   "cell_type": "code",
   "execution_count": 7,
   "metadata": {},
   "outputs": [
    {
     "name": "stdout",
     "output_type": "stream",
     "text": [
      "98.51360282907274\n",
      "103.29567844843277\n",
      "{'Communication': 131.44, 'Utilities': 159.89, 'Energy': 562.93, 'Real_Estate': 128.43, 'Cons_Staples': 314.85, 'Healthcare': 387.21, 'Financials': 220.72, 'Industrials': 321.21, 'Materials': 244.25, 'Cons_Disc': 308.09, 'Info_Tech': 411.19}\n"
     ]
    }
   ],
   "source": [
    "p = portfolio.Portfolio(100/11)\n",
    "print(p.get_portfolio_value('2011-04-12'))\n",
    "print(p.get_portfolio_value('2012-04-12'))\n",
    "print(p.get_sector_values('2011-04-12'))"
   ]
  },
  {
   "cell_type": "code",
   "execution_count": 8,
   "metadata": {},
   "outputs": [
    {
     "ename": "AttributeError",
     "evalue": "type object 'datetime.date' has no attribute 'fromisoformat'",
     "output_type": "error",
     "traceback": [
      "\u001b[0;31m---------------------------------------------------------------------------\u001b[0m",
      "\u001b[0;31mAttributeError\u001b[0m                            Traceback (most recent call last)",
      "\u001b[0;32m<ipython-input-8-785b43763b16>\u001b[0m in \u001b[0;36m<module>\u001b[0;34m()\u001b[0m\n\u001b[0;32m----> 1\u001b[0;31m \u001b[0mp\u001b[0m\u001b[0;34m.\u001b[0m\u001b[0mrebalance_portfolio\u001b[0m\u001b[0;34m(\u001b[0m\u001b[0;34m'2014-04-11'\u001b[0m\u001b[0;34m)\u001b[0m\u001b[0;34m\u001b[0m\u001b[0m\n\u001b[0m\u001b[1;32m      2\u001b[0m \u001b[0;34m\u001b[0m\u001b[0m\n\u001b[1;32m      3\u001b[0m \u001b[0mstart\u001b[0m \u001b[0;34m=\u001b[0m \u001b[0;36m0\u001b[0m\u001b[0;34m\u001b[0m\u001b[0m\n\u001b[1;32m      4\u001b[0m \u001b[0;32mfor\u001b[0m \u001b[0mi\u001b[0m \u001b[0;32min\u001b[0m \u001b[0mp\u001b[0m\u001b[0;34m.\u001b[0m\u001b[0mamt_categories\u001b[0m\u001b[0;34m:\u001b[0m\u001b[0;34m\u001b[0m\u001b[0m\n\u001b[1;32m      5\u001b[0m     \u001b[0mstart\u001b[0m \u001b[0;34m+=\u001b[0m \u001b[0mp\u001b[0m\u001b[0;34m.\u001b[0m\u001b[0mamt_categories\u001b[0m\u001b[0;34m[\u001b[0m\u001b[0mi\u001b[0m\u001b[0;34m]\u001b[0m\u001b[0;34m\u001b[0m\u001b[0m\n",
      "\u001b[0;32m~/Desktop/cds/cds-algo-sp21/portfolio.py\u001b[0m in \u001b[0;36mrebalance_portfolio\u001b[0;34m(self, date)\u001b[0m\n\u001b[1;32m    108\u001b[0m     \"\"\"\n\u001b[1;32m    109\u001b[0m     \u001b[0;32mdef\u001b[0m \u001b[0mrebalance_portfolio\u001b[0m\u001b[0;34m(\u001b[0m\u001b[0mself\u001b[0m\u001b[0;34m,\u001b[0m \u001b[0mdate\u001b[0m\u001b[0;34m)\u001b[0m\u001b[0;34m:\u001b[0m\u001b[0;34m\u001b[0m\u001b[0m\n\u001b[0;32m--> 110\u001b[0;31m         \u001b[0mbegin_date\u001b[0m \u001b[0;34m=\u001b[0m \u001b[0;34m(\u001b[0m\u001b[0mdatetime\u001b[0m\u001b[0;34m.\u001b[0m\u001b[0mdate\u001b[0m\u001b[0;34m.\u001b[0m\u001b[0mfromisoformat\u001b[0m\u001b[0;34m(\u001b[0m\u001b[0mdate\u001b[0m\u001b[0;34m)\u001b[0m \u001b[0;34m-\u001b[0m \u001b[0mdatetime\u001b[0m\u001b[0;34m.\u001b[0m\u001b[0mtimedelta\u001b[0m\u001b[0;34m(\u001b[0m\u001b[0mdays\u001b[0m\u001b[0;34m=\u001b[0m\u001b[0;36m365\u001b[0m\u001b[0;34m)\u001b[0m\u001b[0;34m)\u001b[0m\u001b[0;34m.\u001b[0m\u001b[0misoformat\u001b[0m\u001b[0;34m(\u001b[0m\u001b[0;34m)\u001b[0m\u001b[0;34m\u001b[0m\u001b[0m\n\u001b[0m\u001b[1;32m    111\u001b[0m         \u001b[0mdata\u001b[0m \u001b[0;34m=\u001b[0m \u001b[0msectordata\u001b[0m\u001b[0;34m.\u001b[0m\u001b[0mget_sectors_delta\u001b[0m\u001b[0;34m(\u001b[0m\u001b[0mbegin_date\u001b[0m\u001b[0;34m,\u001b[0m \u001b[0mdate\u001b[0m\u001b[0;34m)\u001b[0m\u001b[0;34m\u001b[0m\u001b[0m\n\u001b[1;32m    112\u001b[0m         \u001b[0mflag\u001b[0m \u001b[0;34m=\u001b[0m \u001b[0;32mTrue\u001b[0m\u001b[0;34m\u001b[0m\u001b[0m\n",
      "\u001b[0;31mAttributeError\u001b[0m: type object 'datetime.date' has no attribute 'fromisoformat'"
     ]
    }
   ],
   "source": [
    "p.rebalance_portfolio('2014-04-11')\n",
    "\n",
    "start = 0 \n",
    "for i in p.amt_categories:\n",
    "    start += p.amt_categories[i]\n",
    "\n",
    "print(f'START: {start:.3f}')\n",
    "\n",
    "p.rebalance_portfolio('2021-04-13')\n",
    "\n",
    "final = 0 \n",
    "for i in p.amt_categories:\n",
    "    final += p.amt_categories[i]\n",
    "\n",
    "print(f'FINAL: {final:.3f}')\n",
    "print(f'Percentage gain: {(final/start-1)*100:.2f}%')"
   ]
  },
  {
   "cell_type": "code",
   "execution_count": null,
   "metadata": {},
   "outputs": [],
   "source": [
    "def calculate_returns(start, end):\n",
    "    p = portfolio.Portfolio(100/11)\n",
    "    p.rebalance_portfolio(start)\n",
    "    \n",
    "    total_s = 0 \n",
    "    for i in p.amt_categories:\n",
    "        total_s += p.amt_categories[i]\n",
    "\n",
    "    p.rebalance_portfolio(end)\n",
    "\n",
    "    total_e = 0 \n",
    "    for i in p.amt_categories:\n",
    "        total_e += p.amt_categories[i]\n",
    "        \n",
    "    percent_return = total_e/total_s - 1\n",
    "    return percent_return"
   ]
  },
  {
   "cell_type": "code",
   "execution_count": null,
   "metadata": {},
   "outputs": [],
   "source": [
    "def calculate_SP500_returns(start, end):\n",
    "    start_val = sectordata.get_SP500_value(start)\n",
    "    end_val =  sectordata.get_SP500_value(end)\n",
    "    print(start_val)\n",
    "    print(end_val)\n",
    "    percent_return = end_val/start_val - 1\n",
    "    return percent_return"
   ]
  },
  {
   "cell_type": "code",
   "execution_count": null,
   "metadata": {},
   "outputs": [],
   "source": [
    "print(calculate_returns('2014-04-11', '2021-04-13'))\n",
    "print(calculate_SP500_returns('2014-04-11', '2021-04-13'))"
   ]
  },
  {
   "cell_type": "code",
   "execution_count": null,
   "metadata": {},
   "outputs": [],
   "source": [
    "def intervals(start, end, delta_days):\n",
    "    delta = timedelta(days = delta_days)\n",
    "    start_date = date.fromisoformat(start)\n",
    "    end_date = date.fromisoformat(end)\n",
    "    lst = []\n",
    "    curr_date = start_date\n",
    "    while curr_date < end_date:\n",
    "        if curr_date.weekday() < 5:\n",
    "            lst.append(curr_date.isoformat())\n",
    "        curr_date += delta\n",
    "    return lst"
   ]
  },
  {
   "cell_type": "code",
   "execution_count": null,
   "metadata": {},
   "outputs": [],
   "source": []
  },
  {
   "cell_type": "code",
   "execution_count": null,
   "metadata": {},
   "outputs": [],
   "source": [
    "def test_performance(frequency):\n",
    "    p = portfolio.Portfolio(100/11)\n",
    "    start_date = '2011-9-20'\n",
    "    end_date = '2015-05-15'\n",
    "    p.rebalance_portfolio(start_date)\n",
    "    start_val = 100\n",
    "    rebalance_dates = intervals(start_date, end_date, frequency)\n",
    "    for d in rebalance_dates:\n",
    "        p.rebalance_portfolio(d)\n",
    "    \n",
    "    portfolio_return = p.get_portfolio_value(end_date)/start_val-1 \n",
    "    print(portfolio_return)"
   ]
  },
  {
   "cell_type": "code",
   "execution_count": null,
   "metadata": {},
   "outputs": [],
   "source": [
    "for i in range(6,365):\n",
    "    test_performance(i)\n",
    "    #print(i)"
   ]
  },
  {
   "cell_type": "code",
   "execution_count": null,
   "metadata": {},
   "outputs": [],
   "source": [
    "calculate_SP500_returns('2012-10-03', '2015-03-02')"
   ]
  },
  {
   "cell_type": "code",
   "execution_count": null,
   "metadata": {},
   "outputs": [],
   "source": []
  },
  {
   "cell_type": "code",
   "execution_count": null,
   "metadata": {},
   "outputs": [],
   "source": []
  }
 ],
 "metadata": {
  "kernelspec": {
   "display_name": "Python 3",
   "language": "python",
   "name": "python3"
  },
  "language_info": {
   "codemirror_mode": {
    "name": "ipython",
    "version": 3
   },
   "file_extension": ".py",
   "mimetype": "text/x-python",
   "name": "python",
   "nbconvert_exporter": "python",
   "pygments_lexer": "ipython3",
   "version": "3.6.5"
  }
 },
 "nbformat": 4,
 "nbformat_minor": 5
}
